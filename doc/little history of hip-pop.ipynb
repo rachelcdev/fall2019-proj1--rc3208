{
 "cells": [
  {
   "cell_type": "markdown",
   "metadata": {},
   "source": [
    "\n",
    "\n",
    "1.\tword analysis – over time: more word, a sign of free form of expression  \n",
    "2.\tTopic analysis – over time \n",
    "3.\tSentiment analysis – over time \n"
   ]
  },
  {
   "cell_type": "code",
   "execution_count": 28,
   "metadata": {},
   "outputs": [
    {
     "data": {
      "text/html": [
       "<script>jQuery(function() {if (jQuery(\"body.notebook_app\".length==0){jQuery(\".input_area\").toggle();jQuery(\".prompt\").toggle();}});</scripts>"
      ]
     },
     "metadata": {},
     "output_type": "display_data"
    }
   ],
   "source": [
    "import os\n",
    "import numpy as np\n",
    "import pandas as pd\n",
    "import seaborn as sns\n",
    "import matplotlib.pyplot as plt\n",
    "import IPython.core.display as di\n",
    "HTML('''<script>\n",
    "\n",
    "code_show=true;\n",
    "\n",
    "function code_toggle() {\n",
    "\n",
    "if (code_show){\n",
    "\n",
    "$('div.input').hide();\n",
    "\n",
    "} else {\n",
    "\n",
    "$('div.input').show();\n",
    "\n",
    "}\n",
    "\n",
    "code_show = !code_show\n",
    "\n",
    "}\n",
    "\n",
    "$( document ).ready(code_toggle);\n",
    "\n",
    "</script>\n",
    "\n",
    "<form action=\"javascript:code_toggle()\"><input type=\"submit\" value=\"Click here to toggle on/off the raw code.\"></form>''')\n",
    "\n",
    "import nltk\n",
    "from nltk import FreqDist\n",
    "from nltk.corpus import PlaintextCorpusReader\n",
    "from wordcloud import WordCloud\n",
    "\n",
    "# from gensim import corpora,models\n",
    "# from gensim.models import LdaModel\n",
    "# from gensim.parsing.preprocessing import remove_stopwords,strip_punctuation, strip_numeric,strip_short\n"
   ]
  },
  {
   "cell_type": "code",
   "execution_count": 2,
   "metadata": {},
   "outputs": [],
   "source": [
    "#read csv file \n",
    "file_path = 'C:/Users/rui/Desktop/cu/fall2019/STAT5243/Project1-rc3208/data/'\n",
    "processed_lyrics = pd.read_csv(file_path + \"processed_lyrics.csv\")"
   ]
  },
  {
   "cell_type": "code",
   "execution_count": 3,
   "metadata": {},
   "outputs": [
    {
     "name": "stdout",
     "output_type": "stream",
     "text": [
      "<class 'pandas.core.frame.DataFrame'>\n",
      "RangeIndex: 125704 entries, 0 to 125703\n",
      "Data columns (total 8 columns):\n",
      "Unnamed: 0      125704 non-null int64\n",
      "song            125704 non-null object\n",
      "year            125704 non-null int64\n",
      "artist          125704 non-null object\n",
      "genre           125704 non-null object\n",
      "lyrics          125704 non-null object\n",
      "id              125704 non-null int64\n",
      "stemmedwords    125704 non-null object\n",
      "dtypes: int64(3), object(5)\n",
      "memory usage: 7.7+ MB\n"
     ]
    }
   ],
   "source": [
    "processed_lyrics.info() # no missing data"
   ]
  },
  {
   "cell_type": "code",
   "execution_count": 4,
   "metadata": {},
   "outputs": [
    {
     "data": {
      "text/html": [
       "<div>\n",
       "<style scoped>\n",
       "    .dataframe tbody tr th:only-of-type {\n",
       "        vertical-align: middle;\n",
       "    }\n",
       "\n",
       "    .dataframe tbody tr th {\n",
       "        vertical-align: top;\n",
       "    }\n",
       "\n",
       "    .dataframe thead th {\n",
       "        text-align: right;\n",
       "    }\n",
       "</style>\n",
       "<table border=\"1\" class=\"dataframe\">\n",
       "  <thead>\n",
       "    <tr style=\"text-align: right;\">\n",
       "      <th></th>\n",
       "      <th>Unnamed: 0</th>\n",
       "      <th>song</th>\n",
       "      <th>year</th>\n",
       "      <th>artist</th>\n",
       "      <th>genre</th>\n",
       "      <th>lyrics</th>\n",
       "      <th>id</th>\n",
       "      <th>stemmedwords</th>\n",
       "    </tr>\n",
       "  </thead>\n",
       "  <tbody>\n",
       "    <tr>\n",
       "      <th>0</th>\n",
       "      <td>1</td>\n",
       "      <td>when-you-were-with-me</td>\n",
       "      <td>2009</td>\n",
       "      <td>a</td>\n",
       "      <td>Hip-Hop</td>\n",
       "      <td>I stopped by the house we called our home\\r\\nI...</td>\n",
       "      <td>1</td>\n",
       "      <td>stop house call home rundown grass overgrown s...</td>\n",
       "    </tr>\n",
       "    <tr>\n",
       "      <th>1</th>\n",
       "      <td>2</td>\n",
       "      <td>careless-whisper</td>\n",
       "      <td>2009</td>\n",
       "      <td>a</td>\n",
       "      <td>Hip-Hop</td>\n",
       "      <td>I feel so unsure\\r\\nAs I take your hand and le...</td>\n",
       "      <td>2</td>\n",
       "      <td>unsure hand lead dance floor music die eyes ca...</td>\n",
       "    </tr>\n",
       "    <tr>\n",
       "      <th>2</th>\n",
       "      <td>3</td>\n",
       "      <td>2-59</td>\n",
       "      <td>2007</td>\n",
       "      <td>a</td>\n",
       "      <td>Hip-Hop</td>\n",
       "      <td>Mark:] Sunday football I got boot off the pitc...</td>\n",
       "      <td>3</td>\n",
       "      <td>mark sunday football boots pitch people gamble...</td>\n",
       "    </tr>\n",
       "    <tr>\n",
       "      <th>3</th>\n",
       "      <td>4</td>\n",
       "      <td>power-of-desire</td>\n",
       "      <td>2007</td>\n",
       "      <td>a</td>\n",
       "      <td>Hip-Hop</td>\n",
       "      <td>[Chris:] Fallin' for a fantasy\\r\\nI threw away...</td>\n",
       "      <td>4</td>\n",
       "      <td>chris fallin fantasy threw destiny stop feelin...</td>\n",
       "    </tr>\n",
       "    <tr>\n",
       "      <th>4</th>\n",
       "      <td>5</td>\n",
       "      <td>you-re-not-in-love</td>\n",
       "      <td>2007</td>\n",
       "      <td>a</td>\n",
       "      <td>Hip-Hop</td>\n",
       "      <td>something in the way we touch\\r\\nyou hold my h...</td>\n",
       "      <td>5</td>\n",
       "      <td>touch hold hand hold somethings change somethi...</td>\n",
       "    </tr>\n",
       "  </tbody>\n",
       "</table>\n",
       "</div>"
      ],
      "text/plain": [
       "   Unnamed: 0                   song  year artist    genre  \\\n",
       "0           1  when-you-were-with-me  2009      a  Hip-Hop   \n",
       "1           2       careless-whisper  2009      a  Hip-Hop   \n",
       "2           3                   2-59  2007      a  Hip-Hop   \n",
       "3           4        power-of-desire  2007      a  Hip-Hop   \n",
       "4           5     you-re-not-in-love  2007      a  Hip-Hop   \n",
       "\n",
       "                                              lyrics  id  \\\n",
       "0  I stopped by the house we called our home\\r\\nI...   1   \n",
       "1  I feel so unsure\\r\\nAs I take your hand and le...   2   \n",
       "2  Mark:] Sunday football I got boot off the pitc...   3   \n",
       "3  [Chris:] Fallin' for a fantasy\\r\\nI threw away...   4   \n",
       "4  something in the way we touch\\r\\nyou hold my h...   5   \n",
       "\n",
       "                                        stemmedwords  \n",
       "0  stop house call home rundown grass overgrown s...  \n",
       "1  unsure hand lead dance floor music die eyes ca...  \n",
       "2  mark sunday football boots pitch people gamble...  \n",
       "3  chris fallin fantasy threw destiny stop feelin...  \n",
       "4  touch hold hand hold somethings change somethi...  "
      ]
     },
     "execution_count": 4,
     "metadata": {},
     "output_type": "execute_result"
    }
   ],
   "source": [
    "processed_lyrics.head()"
   ]
  },
  {
   "cell_type": "code",
   "execution_count": 6,
   "metadata": {},
   "outputs": [],
   "source": [
    "processed_lyrics.loc[processed_lyrics[\"year\"]==112,'year']=1998"
   ]
  },
  {
   "cell_type": "code",
   "execution_count": 7,
   "metadata": {},
   "outputs": [],
   "source": [
    "processed_lyrics.loc[processed_lyrics['year']==702,'year'] = 2002"
   ]
  },
  {
   "cell_type": "code",
   "execution_count": 152,
   "metadata": {
    "collapsed": true
   },
   "outputs": [
    {
     "data": {
      "text/html": [
       "<div>\n",
       "<style scoped>\n",
       "    .dataframe tbody tr th:only-of-type {\n",
       "        vertical-align: middle;\n",
       "    }\n",
       "\n",
       "    .dataframe tbody tr th {\n",
       "        vertical-align: top;\n",
       "    }\n",
       "\n",
       "    .dataframe thead th {\n",
       "        text-align: right;\n",
       "    }\n",
       "</style>\n",
       "<table border=\"1\" class=\"dataframe\">\n",
       "  <thead>\n",
       "    <tr style=\"text-align: right;\">\n",
       "      <th></th>\n",
       "      <th>Unnamed: 0</th>\n",
       "      <th>song</th>\n",
       "      <th>year</th>\n",
       "      <th>artist</th>\n",
       "      <th>genre</th>\n",
       "      <th>lyrics</th>\n",
       "      <th>id</th>\n",
       "      <th>stemmedwords</th>\n",
       "      <th>times</th>\n",
       "      <th>wordcount</th>\n",
       "      <th>life</th>\n",
       "      <th>love</th>\n",
       "      <th>friend</th>\n",
       "      <th>date</th>\n",
       "      <th>gloomy</th>\n",
       "      <th>memories</th>\n",
       "    </tr>\n",
       "  </thead>\n",
       "  <tbody>\n",
       "    <tr>\n",
       "      <th>0</th>\n",
       "      <td>1</td>\n",
       "      <td>when-you-were-with-me</td>\n",
       "      <td>2009</td>\n",
       "      <td>a</td>\n",
       "      <td>Hip-Hop</td>\n",
       "      <td>I stopped by the house we called our home\\r\\nI...</td>\n",
       "      <td>1</td>\n",
       "      <td>stop house call home rundown grass overgrown s...</td>\n",
       "      <td>2000</td>\n",
       "      <td>25</td>\n",
       "      <td>0.020149</td>\n",
       "      <td>0.019462</td>\n",
       "      <td>0.001852</td>\n",
       "      <td>0.005995</td>\n",
       "      <td>0.001897</td>\n",
       "      <td>0.006899</td>\n",
       "    </tr>\n",
       "    <tr>\n",
       "      <th>1</th>\n",
       "      <td>2</td>\n",
       "      <td>careless-whisper</td>\n",
       "      <td>2009</td>\n",
       "      <td>a</td>\n",
       "      <td>Hip-Hop</td>\n",
       "      <td>I feel so unsure\\r\\nAs I take your hand and le...</td>\n",
       "      <td>2</td>\n",
       "      <td>unsure hand lead dance floor music die eyes ca...</td>\n",
       "      <td>2000</td>\n",
       "      <td>92</td>\n",
       "      <td>0.021976</td>\n",
       "      <td>0.011664</td>\n",
       "      <td>0.040845</td>\n",
       "      <td>0.000000</td>\n",
       "      <td>0.021831</td>\n",
       "      <td>0.017353</td>\n",
       "    </tr>\n",
       "    <tr>\n",
       "      <th>2</th>\n",
       "      <td>3</td>\n",
       "      <td>2-59</td>\n",
       "      <td>2007</td>\n",
       "      <td>a</td>\n",
       "      <td>Hip-Hop</td>\n",
       "      <td>Mark:] Sunday football I got boot off the pitc...</td>\n",
       "      <td>3</td>\n",
       "      <td>mark sunday football boots pitch people gamble...</td>\n",
       "      <td>2000</td>\n",
       "      <td>108</td>\n",
       "      <td>0.026984</td>\n",
       "      <td>0.000000</td>\n",
       "      <td>0.000000</td>\n",
       "      <td>0.001393</td>\n",
       "      <td>0.002735</td>\n",
       "      <td>0.009077</td>\n",
       "    </tr>\n",
       "    <tr>\n",
       "      <th>3</th>\n",
       "      <td>4</td>\n",
       "      <td>power-of-desire</td>\n",
       "      <td>2007</td>\n",
       "      <td>a</td>\n",
       "      <td>Hip-Hop</td>\n",
       "      <td>[Chris:] Fallin' for a fantasy\\r\\nI threw away...</td>\n",
       "      <td>4</td>\n",
       "      <td>chris fallin fantasy threw destiny stop feelin...</td>\n",
       "      <td>2000</td>\n",
       "      <td>53</td>\n",
       "      <td>0.021790</td>\n",
       "      <td>0.021702</td>\n",
       "      <td>0.000000</td>\n",
       "      <td>0.000000</td>\n",
       "      <td>0.045286</td>\n",
       "      <td>0.062214</td>\n",
       "    </tr>\n",
       "    <tr>\n",
       "      <th>4</th>\n",
       "      <td>5</td>\n",
       "      <td>you-re-not-in-love</td>\n",
       "      <td>2007</td>\n",
       "      <td>a</td>\n",
       "      <td>Hip-Hop</td>\n",
       "      <td>something in the way we touch\\r\\nyou hold my h...</td>\n",
       "      <td>5</td>\n",
       "      <td>touch hold hand hold somethings change somethi...</td>\n",
       "      <td>2000</td>\n",
       "      <td>41</td>\n",
       "      <td>0.002395</td>\n",
       "      <td>0.080758</td>\n",
       "      <td>0.012828</td>\n",
       "      <td>0.054947</td>\n",
       "      <td>0.002683</td>\n",
       "      <td>0.010310</td>\n",
       "    </tr>\n",
       "  </tbody>\n",
       "</table>\n",
       "</div>"
      ],
      "text/plain": [
       "   Unnamed: 0                   song  year artist    genre  \\\n",
       "0           1  when-you-were-with-me  2009      a  Hip-Hop   \n",
       "1           2       careless-whisper  2009      a  Hip-Hop   \n",
       "2           3                   2-59  2007      a  Hip-Hop   \n",
       "3           4        power-of-desire  2007      a  Hip-Hop   \n",
       "4           5     you-re-not-in-love  2007      a  Hip-Hop   \n",
       "\n",
       "                                              lyrics  id  \\\n",
       "0  I stopped by the house we called our home\\r\\nI...   1   \n",
       "1  I feel so unsure\\r\\nAs I take your hand and le...   2   \n",
       "2  Mark:] Sunday football I got boot off the pitc...   3   \n",
       "3  [Chris:] Fallin' for a fantasy\\r\\nI threw away...   4   \n",
       "4  something in the way we touch\\r\\nyou hold my h...   5   \n",
       "\n",
       "                                        stemmedwords  times  wordcount  \\\n",
       "0  stop house call home rundown grass overgrown s...   2000         25   \n",
       "1  unsure hand lead dance floor music die eyes ca...   2000         92   \n",
       "2  mark sunday football boots pitch people gamble...   2000        108   \n",
       "3  chris fallin fantasy threw destiny stop feelin...   2000         53   \n",
       "4  touch hold hand hold somethings change somethi...   2000         41   \n",
       "\n",
       "       life      love    friend      date    gloomy  memories  \n",
       "0  0.020149  0.019462  0.001852  0.005995  0.001897  0.006899  \n",
       "1  0.021976  0.011664  0.040845  0.000000  0.021831  0.017353  \n",
       "2  0.026984  0.000000  0.000000  0.001393  0.002735  0.009077  \n",
       "3  0.021790  0.021702  0.000000  0.000000  0.045286  0.062214  \n",
       "4  0.002395  0.080758  0.012828  0.054947  0.002683  0.010310  "
      ]
     },
     "execution_count": 152,
     "metadata": {},
     "output_type": "execute_result"
    }
   ],
   "source": [
    "def times(c):\n",
    "    if c < 1980:\n",
    "        return 1970\n",
    "    elif c < 1990:\n",
    "        return 1980\n",
    "    elif c < 2000:\n",
    "        return 1990\n",
    "    elif c < 2010:\n",
    "        return 2000\n",
    "    elif c < 2020:\n",
    "        return 2010\n",
    "    return -1\n",
    "processed_lyrics['times'] = 0\n",
    "processed_lyrics['times'] = [times(x) for x in processed_lyrics['year']]\n",
    "processed_lyrics.head()"
   ]
  },
  {
   "cell_type": "code",
   "execution_count": 153,
   "metadata": {},
   "outputs": [],
   "source": [
    "genre_year = processed_lyrics.pivot_table(values = ['year'],index=['genre'], columns=['times'], aggfunc='count', fill_value=0)"
   ]
  },
  {
   "cell_type": "code",
   "execution_count": 154,
   "metadata": {},
   "outputs": [],
   "source": [
    "genre_year=pd.DataFrame(genre_year.to_records())\n",
    "genre_year.columns = [x.replace(\"('year', \", \"year.\").replace(\")\", \"\") \\\n",
    "                     for x in genre_year.columns]\n",
    "genre_year.rename(columns={genre_year.columns[1]:'genre'},inplace=True)\n",
    "genre_year"
   ]
  },
  {
   "cell_type": "code",
   "execution_count": 162,
   "metadata": {},
   "outputs": [],
   "source": [
    "processed_lyrics['wordcount'] = [len(x.split()) for x in processed_lyrics['stemmedwords']]"
   ]
  },
  {
   "cell_type": "code",
   "execution_count": 163,
   "metadata": {},
   "outputs": [],
   "source": [
    "word_avg=processed_lyrics.pivot_table(values = ['wordcount'],index=['genre'], columns=['times'], aggfunc='mean', fill_value=0)"
   ]
  },
  {
   "cell_type": "code",
   "execution_count": 164,
   "metadata": {},
   "outputs": [
    {
     "name": "stderr",
     "output_type": "stream",
     "text": [
      "C:\\Users\\rui\\Anaconda3\\lib\\site-packages\\ipykernel_launcher.py:1: FutureWarning: Method .as_matrix will be removed in a future version. Use .values instead.\n",
      "  \"\"\"Entry point for launching an IPython kernel.\n"
     ]
    },
    {
     "data": {
      "image/png": "[encoded data removed]",
      "text/plain": [
       "<Figure size 432x288 with 2 Axes>"
      ]
     },
     "metadata": {
      "needs_background": "light"
     },
     "output_type": "display_data"
    }
   ],
   "source": [
    "word_avg.as_matrix()\n",
    "sns.heatmap(word_avg,fmt=\"d\",cmap='YlGnBu',center=processed_lyrics['wordcount'].mean())\n",
    "plt.show()"
   ]
  },
  {
   "cell_type": "code",
   "execution_count": 15,
   "metadata": {},
   "outputs": [],
   "source": [
    "from itertools import chain\n",
    "def get_wordcloud(data):\n",
    "    Words = [word.split() for word in data['stemmedwords']]\n",
    "    Text = list(chain(*Words))\n",
    "    Words_dis=FreqDist(Text)\n",
    "#     print(Words_dis.most_common(50))\n",
    "    plot = plt.imshow(WordCloud(background_color = \"white\").generate(str(Words_dis.most_common(50))))\n",
    "    plt.axis('off')\n",
    "    plt.figure(figsize= (10,10))\n",
    "    plt.show()\n",
    "    return plot"
   ]
  },
  {
   "cell_type": "code",
   "execution_count": 16,
   "metadata": {},
   "outputs": [
    {
     "data": {
      "image/png": "[encoded data removed]",
      "text/plain": [
       "<Figure size 432x288 with 1 Axes>"
      ]
     },
     "metadata": {
      "needs_background": "light"
     },
     "output_type": "display_data"
    },
    {
     "data": {
      "text/plain": [
       "<Figure size 720x720 with 0 Axes>"
      ]
     },
     "metadata": {},
     "output_type": "display_data"
    }
   ],
   "source": [
    "plot = get_wordcloud(processed_lyrics)\n",
    "fig = plot.get_figure()\n"
   ]
  },
  {
   "cell_type": "code",
   "execution_count": 167,
   "metadata": {},
   "outputs": [
    {
     "data": {
      "image/png": "[encoded data removed]",
      "text/plain": [
       "<Figure size 432x288 with 1 Axes>"
      ]
     },
     "metadata": {
      "needs_background": "light"
     },
     "output_type": "display_data"
    },
    {
     "data": {
      "text/plain": [
       "<Figure size 720x720 with 0 Axes>"
      ]
     },
     "metadata": {},
     "output_type": "display_data"
    }
   ],
   "source": [
    "hiphop = processed_lyrics[processed_lyrics['genre']=='Hip-Hop']\n",
    "plot = get_wordcloud(hiphop)\n",
    "fig = plot.get_figure()"
   ]
  },
  {
   "cell_type": "markdown",
   "metadata": {},
   "source": [
    "Topic modeling "
   ]
  },
  {
   "cell_type": "code",
   "execution_count": 169,
   "metadata": {},
   "outputs": [
    {
     "name": "stdout",
     "output_type": "stream",
     "text": [
      "[nltk_data] Downloading package stopwords to\n",
      "[nltk_data]     C:\\Users\\rui\\AppData\\Roaming\\nltk_data...\n",
      "[nltk_data]   Package stopwords is already up-to-date!\n"
     ]
    },
    {
     "data": {
      "text/plain": [
       "True"
      ]
     },
     "execution_count": 169,
     "metadata": {},
     "output_type": "execute_result"
    }
   ],
   "source": [
    "from nltk.corpus import stopwords\n",
    "from sklearn.feature_extraction.text import TfidfVectorizer\n",
    "stop_words = stopwords.words('english')\n",
    "nltk.download('stopwords')"
   ]
  },
  {
   "cell_type": "code",
   "execution_count": 168,
   "metadata": {},
   "outputs": [
    {
     "name": "stdout",
     "output_type": "stream",
     "text": [
      "[nltk_data] Downloading package stopwords to\n",
      "[nltk_data]     C:\\Users\\rui\\AppData\\Roaming\\nltk_data...\n",
      "[nltk_data]   Package stopwords is already up-to-date!\n"
     ]
    }
   ],
   "source": [
    "vectorizer = TfidfVectorizer(stop_words=stop_words,min_df = 0.05)\n",
    "tfdif = vectorizer.fit_transform(hiphop['stemmedwords'])"
   ]
  },
  {
   "cell_type": "code",
   "execution_count": 19,
   "metadata": {},
   "outputs": [],
   "source": [
    "tfdif = vectorizer.fit_transform(processed_lyrics['stemmedwords'])"
   ]
  },
  {
   "cell_type": "code",
   "execution_count": 20,
   "metadata": {},
   "outputs": [],
   "source": [
    "from sklearn.decomposition import NMF"
   ]
  },
  {
   "cell_type": "code",
   "execution_count": 21,
   "metadata": {},
   "outputs": [],
   "source": [
    "nmf = NMF(n_components=6)"
   ]
  },
  {
   "cell_type": "code",
   "execution_count": 22,
   "metadata": {},
   "outputs": [],
   "source": [
    "topic_values = nmf.fit_transform(tfdif)"
   ]
  },
  {
   "cell_type": "code",
   "execution_count": 23,
   "metadata": {},
   "outputs": [
    {
     "name": "stdout",
     "output_type": "stream",
     "text": [
      "topic #1 day life world night live eyes dream light heart\n",
      "topic #2 love heart hold dream fall feeling cry girl words\n",
      "topic #3 youre youve youll feeling mind girl friend play head\n",
      "topic #4 baby girl night call home stop play hold stay\n",
      "topic #5 time mind ive waiting hard friend stop feeling leave\n",
      "topic #6 ill ive youll waiting home leave call stay hold\n"
     ]
    }
   ],
   "source": [
    "for topic_num,topic in enumerate(nmf.components_):\n",
    "    message = 'topic #{} '.format(topic_num+1)\n",
    "    message += ' '.join(vectorizer.get_feature_names()[i] for i in topic.argsort()[:-10 :-1])\n",
    "    print(message)"
   ]
  },
  {
   "cell_type": "code",
   "execution_count": 24,
   "metadata": {},
   "outputs": [],
   "source": [
    "topic_labels = ['life','love','friend','date','gloomy','memories']"
   ]
  },
  {
   "cell_type": "code",
   "execution_count": 25,
   "metadata": {},
   "outputs": [],
   "source": [
    "topic_df = pd.DataFrame(topic_values,columns=topic_labels)"
   ]
  },
  {
   "cell_type": "code",
   "execution_count": 26,
   "metadata": {},
   "outputs": [],
   "source": [
    "processed_lyrics = processed_lyrics.join(topic_df)"
   ]
  },
  {
   "cell_type": "code",
   "execution_count": null,
   "metadata": {},
   "outputs": [],
   "source": [
    "processed_lyrics.loc[processed_lyrics['life']>=0.1,'life']=1\n",
    "processed_lyrics.loc[processed_lyrics['love']>=0.1,'love']=1\n",
    "processed_lyrics.loc[processed_lyrics['friend']>=0.1,'friend']=1\n",
    "processed_lyrics.loc[processed_lyrics['date']>=0.1,'date']=1\n",
    "processed_lyrics.loc[processed_lyrics['gloomy']>=0.1,'gloomy']=1\n",
    "processed_lyrics.loc[processed_lyrics['memories']>=0.1,'memories']=1\n",
    "processed_lyrics.loc[processed_lyrics['life']<0.1,'life']=0\n",
    "processed_lyrics.loc[processed_lyrics['love']<0.1,'love']=0\n",
    "processed_lyrics.loc[processed_lyrics['friend']<0.1,'friend']=0\n",
    "processed_lyrics.loc[processed_lyrics['date']<0.1,'date']=0\n",
    "processed_lyrics.loc[processed_lyrics['gloomy']<0.1,'gloomy']=0\n",
    "processed_lyrics.loc[processed_lyrics['memories']<0.1,'memories']=0"
   ]
  },
  {
   "cell_type": "code",
   "execution_count": null,
   "metadata": {},
   "outputs": [],
   "source": [
    "year_topics = processed_lyrics.groupby('year').sum().reset_index()"
   ]
  },
  {
   "cell_type": "code",
   "execution_count": null,
   "metadata": {},
   "outputs": [],
   "source": [
    "plt.figure(figsize=(20,10))\n",
    "plt.plot(year_topics['year'],year_topics['life'],label='life')\n",
    "plt.plot(year_topics['year'],year_topics['love'],label='love')\n",
    "plt.plot(year_topics['year'],year_topics['friend'],label='friend')\n",
    "plt.plot(year_topics['year'],year_topics['date'],label='date')\n",
    "plt.plot(year_topics['year'],year_topics['gloomy'],label='gloomy')\n",
    "plt.plot(year_topics['year'],year_topics['memories'],label='memories')\n",
    "plt.legend()"
   ]
  },
  {
   "cell_type": "code",
   "execution_count": null,
   "metadata": {},
   "outputs": [],
   "source": [
    "year_topics[topic_labels].as_matrix()\n",
    "sns.heatmap(year_topics[topic_labels],fmt=\"d\",cmap='YlGnBu')\n",
    "plt.show()"
   ]
  },
  {
   "cell_type": "code",
   "execution_count": null,
   "metadata": {},
   "outputs": [],
   "source": [
    "plot = get_wordcloud(pop[pop['times']==1990])\n",
    "fig = plot.get_figure()"
   ]
  }
 ],
 "metadata": {
  "kernelspec": {
   "display_name": "Python 3",
   "language": "python",
   "name": "python3"
  },
  "language_info": {
   "codemirror_mode": {
    "name": "ipython",
    "version": 3
   },
   "file_extension": ".py",
   "mimetype": "text/x-python",
   "name": "python",
   "nbconvert_exporter": "python",
   "pygments_lexer": "ipython3",
   "version": "3.7.0"
  }
 },
 "nbformat": 4,
 "nbformat_minor": 2
}
